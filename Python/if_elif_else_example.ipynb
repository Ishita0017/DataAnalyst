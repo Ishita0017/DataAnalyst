{
 "cells": [
  {
   "cell_type": "code",
   "execution_count": 2,
   "id": "d185d111-cd66-4be3-8492-2297df436285",
   "metadata": {},
   "outputs": [
    {
     "name": "stdout",
     "output_type": "stream",
     "text": [
      "It worked!\n"
     ]
    }
   ],
   "source": [
    "if 25>10:\n",
    "    print('It worked!')\n"
   ]
  },
  {
   "cell_type": "code",
   "execution_count": 6,
   "id": "fe774653-45e0-4d79-8094-455e28f9f1dd",
   "metadata": {},
   "outputs": [
    {
     "name": "stdout",
     "output_type": "stream",
     "text": [
      "It did not work...\n"
     ]
    }
   ],
   "source": [
    "if 25<10:\n",
    "    print('It worked!')\n",
    "else:\n",
    "    print('It did not work...')\n"
   ]
  },
  {
   "cell_type": "code",
   "execution_count": 11,
   "id": "84c6ed1e-6636-4076-a23f-be1f92f5eff2",
   "metadata": {},
   "outputs": [
    {
     "name": "stdout",
     "output_type": "stream",
     "text": [
      "It worked!\n",
      "This nested if statement worked!\n"
     ]
    }
   ],
   "source": [
    "if (25<10) or (1<3):\n",
    "    print('It worked!')\n",
    "    if 10>5:\n",
    "        print('This nested if statement worked!')\n",
    "elif 25<20:\n",
    "    print('elif worked!')\n",
    "elif 25<21:\n",
    "    print('elif2 worked!')\n",
    "elif 25<40:\n",
    "    print('elif3 worked!')\n",
    "else:\n",
    "    print('It did not work...')"
   ]
  },
  {
   "cell_type": "code",
   "execution_count": 10,
   "id": "1c17db06-f31c-4c9a-ba00-dd9369b74acb",
   "metadata": {},
   "outputs": [
    {
     "name": "stdout",
     "output_type": "stream",
     "text": [
      "It did not work...\n"
     ]
    }
   ],
   "source": [
    "print('It worked!') if 10>30 else print('It did not work...')"
   ]
  },
  {
   "cell_type": "code",
   "execution_count": null,
   "id": "107b8b53-5997-451b-be36-f66a6ab91864",
   "metadata": {},
   "outputs": [],
   "source": []
  },
  {
   "cell_type": "code",
   "execution_count": null,
   "id": "52834096-9f5f-46cb-b844-007e977dbf0a",
   "metadata": {},
   "outputs": [],
   "source": []
  },
  {
   "cell_type": "code",
   "execution_count": null,
   "id": "56d183b4-a66e-4d8a-b53d-649b3ace2a8a",
   "metadata": {},
   "outputs": [],
   "source": []
  },
  {
   "cell_type": "code",
   "execution_count": null,
   "id": "f7641eb3-0577-46e1-ae08-8d7df05d9d94",
   "metadata": {},
   "outputs": [],
   "source": []
  }
 ],
 "metadata": {
  "kernelspec": {
   "display_name": "Python 3 (ipykernel)",
   "language": "python",
   "name": "python3"
  },
  "language_info": {
   "codemirror_mode": {
    "name": "ipython",
    "version": 3
   },
   "file_extension": ".py",
   "mimetype": "text/x-python",
   "name": "python",
   "nbconvert_exporter": "python",
   "pygments_lexer": "ipython3",
   "version": "3.9.5"
  }
 },
 "nbformat": 4,
 "nbformat_minor": 5
}
