{
 "cells": [
  {
   "cell_type": "markdown",
   "id": "b09163c6-f20b-4228-9d6a-b0e7dc8ae16b",
   "metadata": {},
   "source": [
    "# While Loops"
   ]
  },
  {
   "cell_type": "code",
   "execution_count": 3,
   "id": "5d1837e5-14db-45aa-8c11-0e6638e5f498",
   "metadata": {},
   "outputs": [
    {
     "name": "stdout",
     "output_type": "stream",
     "text": [
      "0\n",
      "1\n",
      "2\n",
      "3\n",
      "4\n"
     ]
    }
   ],
   "source": [
    "number=0\n",
    "while number < 5:\n",
    "    print(number)\n",
    "    number=number+1"
   ]
  },
  {
   "cell_type": "code",
   "execution_count": 4,
   "id": "10a94099-8b8d-4294-87ed-27de94a0387d",
   "metadata": {},
   "outputs": [
    {
     "name": "stdout",
     "output_type": "stream",
     "text": [
      "0\n",
      "1\n",
      "2\n",
      "3\n"
     ]
    }
   ],
   "source": [
    "number=0\n",
    "while number < 5:\n",
    "    print(number)\n",
    "    if number==3:\n",
    "        break\n",
    "    number=number+1"
   ]
  },
  {
   "cell_type": "code",
   "execution_count": 6,
   "id": "191324e2-c6b4-4bdf-94ea-9a44858f6129",
   "metadata": {},
   "outputs": [
    {
     "name": "stdout",
     "output_type": "stream",
     "text": [
      "0\n",
      "1\n",
      "2\n",
      "3\n",
      "4\n",
      "no longer <5\n"
     ]
    }
   ],
   "source": [
    "number=0\n",
    "while number < 5:\n",
    "    print(number)\n",
    "    if number==6:\n",
    "        break\n",
    "    number=number+1\n",
    "else:\n",
    "    print('no longer <5')"
   ]
  },
  {
   "cell_type": "code",
   "execution_count": 14,
   "id": "ca910b15-9320-46c9-a4a2-1379676edebc",
   "metadata": {},
   "outputs": [
    {
     "name": "stdout",
     "output_type": "stream",
     "text": [
      "1\n",
      "2\n",
      "4\n",
      "5\n",
      "no longer <5\n"
     ]
    }
   ],
   "source": [
    "number=0\n",
    "while number < 5:\n",
    "    number=number+1 \n",
    "    if number==3:\n",
    "        continue\n",
    "    print(number)\n",
    "else:\n",
    "    print('no longer <5')"
   ]
  },
  {
   "cell_type": "code",
   "execution_count": null,
   "id": "b2178207-e8ab-424d-bc9a-f4c065df5d6d",
   "metadata": {},
   "outputs": [],
   "source": []
  },
  {
   "cell_type": "code",
   "execution_count": null,
   "id": "4409ec10-061e-4497-820d-0d6b9eed1872",
   "metadata": {},
   "outputs": [],
   "source": []
  },
  {
   "cell_type": "code",
   "execution_count": null,
   "id": "9c5ee58a-cd43-45ee-bcbb-f7ece1d2b2d0",
   "metadata": {},
   "outputs": [],
   "source": []
  },
  {
   "cell_type": "code",
   "execution_count": null,
   "id": "c2c7178d-81af-40d1-be9d-ca3ba5b32f86",
   "metadata": {},
   "outputs": [],
   "source": []
  },
  {
   "cell_type": "code",
   "execution_count": null,
   "id": "45012f36-7f42-4ed6-977e-358ac45adcb5",
   "metadata": {},
   "outputs": [],
   "source": []
  },
  {
   "cell_type": "code",
   "execution_count": null,
   "id": "cf89af33-8c30-4be5-8131-6faff80bc375",
   "metadata": {},
   "outputs": [],
   "source": []
  },
  {
   "cell_type": "code",
   "execution_count": null,
   "id": "be25631e-90a3-4f6a-93ff-9424fb766774",
   "metadata": {},
   "outputs": [],
   "source": []
  },
  {
   "cell_type": "code",
   "execution_count": null,
   "id": "002aca45-6456-4dea-8f05-a5afcdbddce7",
   "metadata": {},
   "outputs": [],
   "source": []
  },
  {
   "cell_type": "code",
   "execution_count": null,
   "id": "bd8c58a4-07ea-4dd3-b7d9-b1af185f62a9",
   "metadata": {},
   "outputs": [],
   "source": []
  }
 ],
 "metadata": {
  "kernelspec": {
   "display_name": "Python 3 (ipykernel)",
   "language": "python",
   "name": "python3"
  },
  "language_info": {
   "codemirror_mode": {
    "name": "ipython",
    "version": 3
   },
   "file_extension": ".py",
   "mimetype": "text/x-python",
   "name": "python",
   "nbconvert_exporter": "python",
   "pygments_lexer": "ipython3",
   "version": "3.9.5"
  }
 },
 "nbformat": 4,
 "nbformat_minor": 5
}
