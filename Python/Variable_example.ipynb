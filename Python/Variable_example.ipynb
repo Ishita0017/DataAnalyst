{
 "cells": [
  {
   "cell_type": "code",
   "execution_count": 2,
   "id": "07654496-f12e-4c4d-b319-3a5676574e8e",
   "metadata": {},
   "outputs": [
    {
     "data": {
      "text/plain": [
       "int"
      ]
     },
     "execution_count": 2,
     "metadata": {},
     "output_type": "execute_result"
    }
   ],
   "source": [
    "type(-12+100)"
   ]
  },
  {
   "cell_type": "code",
   "execution_count": 3,
   "id": "6e435950-14d5-4005-9dbe-29bc3636f3d2",
   "metadata": {},
   "outputs": [
    {
     "data": {
      "text/plain": [
       "float"
      ]
     },
     "execution_count": 3,
     "metadata": {},
     "output_type": "execute_result"
    }
   ],
   "source": [
    "type(12+10.25)"
   ]
  },
  {
   "cell_type": "code",
   "execution_count": 6,
   "id": "4cd6be4b-a52c-4c90-8e17-f20a9b55d815",
   "metadata": {},
   "outputs": [
    {
     "data": {
      "text/plain": [
       "complex"
      ]
     },
     "execution_count": 6,
     "metadata": {},
     "output_type": "execute_result"
    }
   ],
   "source": [
    "type(12+3j)"
   ]
  },
  {
   "cell_type": "code",
   "execution_count": 8,
   "id": "6f24715e-cd81-47e0-ae33-0d4eb865514c",
   "metadata": {},
   "outputs": [
    {
     "data": {
      "text/plain": [
       "bool"
      ]
     },
     "execution_count": 8,
     "metadata": {},
     "output_type": "execute_result"
    }
   ],
   "source": [
    "#Boolean\n",
    "\n",
    "type(1>5)\n"
   ]
  },
  {
   "cell_type": "code",
   "execution_count": 9,
   "id": "d3c350be-bedb-4024-ab9b-7cdbbc76ecfc",
   "metadata": {},
   "outputs": [
    {
     "data": {
      "text/plain": [
       "False"
      ]
     },
     "execution_count": 9,
     "metadata": {},
     "output_type": "execute_result"
    }
   ],
   "source": [
    "1>5"
   ]
  },
  {
   "cell_type": "code",
   "execution_count": 12,
   "id": "8993ab2f-f3b5-41d1-8c9f-82b177627f6b",
   "metadata": {},
   "outputs": [
    {
     "data": {
      "text/plain": [
       "'Single Quote'"
      ]
     },
     "execution_count": 12,
     "metadata": {},
     "output_type": "execute_result"
    }
   ],
   "source": [
    "#Strings\n",
    "\n",
    "'Single Quote'"
   ]
  },
  {
   "cell_type": "code",
   "execution_count": 13,
   "id": "90e3b55d-1ab2-427b-9263-f4646b68c015",
   "metadata": {},
   "outputs": [
    {
     "data": {
      "text/plain": [
       "'Double Quote'"
      ]
     },
     "execution_count": 13,
     "metadata": {},
     "output_type": "execute_result"
    }
   ],
   "source": [
    "\"Double Quote\""
   ]
  },
  {
   "cell_type": "code",
   "execution_count": 14,
   "id": "2aa695f5-215c-4977-88c7-e508007b0d8f",
   "metadata": {},
   "outputs": [],
   "source": [
    "multiline=\"\"\"\n",
    "The ice crea, vanquished \n",
    "my longing for sweets,\n",
    "upon this diet I look away,\n",
    "it no longer exists on this day\n",
    "\"\"\""
   ]
  },
  {
   "cell_type": "code",
   "execution_count": 15,
   "id": "dd7bb64a-f192-40bc-aa01-1501009b59bc",
   "metadata": {},
   "outputs": [
    {
     "name": "stdout",
     "output_type": "stream",
     "text": [
      "\n",
      "The ice crea, vanquished \n",
      "my longing for sweets,\n",
      "upon this diet I look away,\n",
      "it no longer exists on this day\n",
      "\n"
     ]
    }
   ],
   "source": [
    "print(multiline)"
   ]
  },
  {
   "cell_type": "code",
   "execution_count": 16,
   "id": "19782060-cb17-46da-8cd4-46ae7f3d97cf",
   "metadata": {},
   "outputs": [
    {
     "name": "stdout",
     "output_type": "stream",
     "text": [
      "I've always wanted to eat a gallon of ice cream\n"
     ]
    }
   ],
   "source": [
    "line =\"I've always wanted to eat a gallon of ice cream\"\n",
    "print(line)"
   ]
  },
  {
   "cell_type": "code",
   "execution_count": 17,
   "id": "da51fa0b-f99c-4891-8151-80926813d2ef",
   "metadata": {},
   "outputs": [],
   "source": [
    "triple_quote = \"\"\"I\"'ve\" always wanted to eat a gallon of ice cream\"\"\""
   ]
  },
  {
   "cell_type": "code",
   "execution_count": 18,
   "id": "ad505d09-8132-435b-8eae-e13d3f925aa4",
   "metadata": {},
   "outputs": [
    {
     "name": "stdout",
     "output_type": "stream",
     "text": [
      "I\"'ve\" always wanted to eat a gallon of ice cream\n"
     ]
    }
   ],
   "source": [
    "print(triple_quote)"
   ]
  },
  {
   "cell_type": "code",
   "execution_count": 24,
   "id": "dd029a9c-c011-48d2-9ba9-bce66f28bf6c",
   "metadata": {},
   "outputs": [
    {
     "name": "stdout",
     "output_type": "stream",
     "text": [
      "llo\n"
     ]
    }
   ],
   "source": [
    "a='hello World!'\n",
    "print(a[2:5])"
   ]
  },
  {
   "cell_type": "code",
   "execution_count": 25,
   "id": "50900774-767b-4ed2-bf63-043c2eb1b482",
   "metadata": {},
   "outputs": [
    {
     "data": {
      "text/plain": [
       "'hello World!hello World!hello World!'"
      ]
     },
     "execution_count": 25,
     "metadata": {},
     "output_type": "execute_result"
    }
   ],
   "source": [
    "a*3"
   ]
  },
  {
   "cell_type": "code",
   "execution_count": 26,
   "id": "2d8d464f-40dd-4d7f-8ef3-e546674202a5",
   "metadata": {},
   "outputs": [
    {
     "data": {
      "text/plain": [
       "'hello World!hello World!'"
      ]
     },
     "execution_count": 26,
     "metadata": {},
     "output_type": "execute_result"
    }
   ],
   "source": [
    "a+a"
   ]
  },
  {
   "cell_type": "code",
   "execution_count": 27,
   "id": "c2d440d5-1aaf-4596-b0c8-326cf7032734",
   "metadata": {},
   "outputs": [
    {
     "data": {
      "text/plain": [
       "[1, 2, 3]"
      ]
     },
     "execution_count": 27,
     "metadata": {},
     "output_type": "execute_result"
    }
   ],
   "source": [
    "#list\n",
    "\n",
    "\n",
    "[1,2,3]"
   ]
  },
  {
   "cell_type": "code",
   "execution_count": 28,
   "id": "2a7f8e9d-91ba-49c9-b634-f5f44b276e41",
   "metadata": {},
   "outputs": [
    {
     "data": {
      "text/plain": [
       "['cookie Dough', 'Strawberry', 'chocolate']"
      ]
     },
     "execution_count": 28,
     "metadata": {},
     "output_type": "execute_result"
    }
   ],
   "source": [
    "['cookie Dough','Strawberry','chocolate']"
   ]
  },
  {
   "cell_type": "code",
   "execution_count": 29,
   "id": "ce4f3e39-3a22-4ccc-b458-54ba567534c3",
   "metadata": {},
   "outputs": [
    {
     "data": {
      "text/plain": [
       "['vanilla', 3, ['scoops', 'spoon'], True]"
      ]
     },
     "execution_count": 29,
     "metadata": {},
     "output_type": "execute_result"
    }
   ],
   "source": [
    "['vanilla',3,['scoops','spoon'],True]"
   ]
  },
  {
   "cell_type": "code",
   "execution_count": 31,
   "id": "445c1eaa-ab5b-4953-8b89-0a4f5cfe1f39",
   "metadata": {},
   "outputs": [
    {
     "data": {
      "text/plain": [
       "['cookie Dough', 'Strawberry', 'chocolate', 'salted caramel']"
      ]
     },
     "execution_count": 31,
     "metadata": {},
     "output_type": "execute_result"
    }
   ],
   "source": [
    "ice_cream=['cookie Dough','Strawberry','chocolate']\n",
    "ice_cream.append('salted caramel')\n",
    "ice_cream"
   ]
  },
  {
   "cell_type": "code",
   "execution_count": 32,
   "id": "f0aff9bb-d8f6-4bb7-99b5-151e6c16cbe0",
   "metadata": {},
   "outputs": [
    {
     "data": {
      "text/plain": [
       "['Butter Pecan', 'Strawberry', 'chocolate', 'salted caramel']"
      ]
     },
     "execution_count": 32,
     "metadata": {},
     "output_type": "execute_result"
    }
   ],
   "source": [
    "ice_cream[0]='Butter Pecan'\n",
    "ice_cream"
   ]
  },
  {
   "cell_type": "code",
   "execution_count": 33,
   "id": "6944669f-2565-40c5-bcfb-372567767b57",
   "metadata": {},
   "outputs": [
    {
     "data": {
      "text/plain": [
       "'spoon'"
      ]
     },
     "execution_count": 33,
     "metadata": {},
     "output_type": "execute_result"
    }
   ],
   "source": [
    "nest_list=['vanilla',3,['scoops','spoon'],True]\n",
    "nest_list[2][1]"
   ]
  },
  {
   "cell_type": "code",
   "execution_count": 34,
   "id": "04aae8d8-398f-4676-93bb-7846c395c328",
   "metadata": {},
   "outputs": [
    {
     "data": {
      "text/plain": [
       "tuple"
      ]
     },
     "execution_count": 34,
     "metadata": {},
     "output_type": "execute_result"
    }
   ],
   "source": [
    "#tuple\n",
    "\n",
    "tuple_scoops=(1,2,3,2,1)\n",
    "type(tuple_scoops)"
   ]
  },
  {
   "cell_type": "code",
   "execution_count": 35,
   "id": "ae3aa789-003a-4ce7-91b2-0d76a7b09e6f",
   "metadata": {},
   "outputs": [
    {
     "data": {
      "text/plain": [
       "1"
      ]
     },
     "execution_count": 35,
     "metadata": {},
     "output_type": "execute_result"
    }
   ],
   "source": [
    "tuple_scoops[0]"
   ]
  },
  {
   "cell_type": "code",
   "execution_count": 36,
   "id": "b1dd1c62-0aa8-4eac-9e89-84d3a8cf799a",
   "metadata": {},
   "outputs": [
    {
     "ename": "AttributeError",
     "evalue": "'tuple' object has no attribute 'append'",
     "output_type": "error",
     "traceback": [
      "\u001b[1;31m---------------------------------------------------------------------------\u001b[0m",
      "\u001b[1;31mAttributeError\u001b[0m                            Traceback (most recent call last)",
      "Cell \u001b[1;32mIn[36], line 1\u001b[0m\n\u001b[1;32m----> 1\u001b[0m \u001b[43mtuple_scoops\u001b[49m\u001b[38;5;241;43m.\u001b[39;49m\u001b[43mappend\u001b[49m(\u001b[38;5;241m3\u001b[39m)\n",
      "\u001b[1;31mAttributeError\u001b[0m: 'tuple' object has no attribute 'append'"
     ]
    }
   ],
   "source": [
    "tuple_scoops.append(3)"
   ]
  },
  {
   "cell_type": "code",
   "execution_count": 40,
   "id": "78e9a9c8-8439-4075-88ca-0926d662dbc9",
   "metadata": {},
   "outputs": [
    {
     "name": "stdout",
     "output_type": "stream",
     "text": [
      "{1, 2, 3}\n"
     ]
    }
   ],
   "source": [
    "#sets\n",
    "\n",
    "daily_pints={1,2,3}\n",
    "print(daily_pints)"
   ]
  },
  {
   "cell_type": "code",
   "execution_count": 41,
   "id": "7471f3df-286d-4368-a10b-c05e013f8c69",
   "metadata": {},
   "outputs": [
    {
     "data": {
      "text/plain": [
       "set"
      ]
     },
     "execution_count": 41,
     "metadata": {},
     "output_type": "execute_result"
    }
   ],
   "source": [
    "type(daily_pints)"
   ]
  },
  {
   "cell_type": "code",
   "execution_count": 42,
   "id": "59cfabea-8ac0-4201-b70e-7eb7ed122466",
   "metadata": {},
   "outputs": [
    {
     "name": "stdout",
     "output_type": "stream",
     "text": [
      "{1, 2, 3, 4, 5, 6, 31}\n"
     ]
    }
   ],
   "source": [
    "daily_pints_log={1,2,31,2,3,4,1,2,5,6,3,2}\n",
    "print(daily_pints_log)"
   ]
  },
  {
   "cell_type": "code",
   "execution_count": 43,
   "id": "2cc1fb09-557e-402b-8f71-8992490ca72d",
   "metadata": {},
   "outputs": [
    {
     "name": "stdout",
     "output_type": "stream",
     "text": [
      "{0, 1, 2, 3, 5, 7, 24}\n"
     ]
    }
   ],
   "source": [
    "z_daily_pints_log={1,3,5,7,3,24,5,7,3,2,0}\n",
    "print(z_daily_pints_log)"
   ]
  },
  {
   "cell_type": "code",
   "execution_count": 45,
   "id": "5273acb1-45ca-4961-8020-ce4a9c076e8b",
   "metadata": {},
   "outputs": [
    {
     "name": "stdout",
     "output_type": "stream",
     "text": [
      "{0, 1, 2, 3, 4, 5, 6, 7, 24, 31}\n"
     ]
    }
   ],
   "source": [
    "print(daily_pints_log|z_daily_pints_log)"
   ]
  },
  {
   "cell_type": "code",
   "execution_count": 46,
   "id": "c9bbd69b-1e7e-4a64-870a-39c5725f4bfd",
   "metadata": {},
   "outputs": [
    {
     "name": "stdout",
     "output_type": "stream",
     "text": [
      "{1, 2, 3, 5}\n"
     ]
    }
   ],
   "source": [
    "print(daily_pints_log&z_daily_pints_log)"
   ]
  },
  {
   "cell_type": "code",
   "execution_count": 47,
   "id": "e86ad635-cad4-4fb7-8e7e-2ee3f6a308df",
   "metadata": {},
   "outputs": [
    {
     "name": "stdout",
     "output_type": "stream",
     "text": [
      "{4, 6, 31}\n"
     ]
    }
   ],
   "source": [
    "print(daily_pints_log-z_daily_pints_log)"
   ]
  },
  {
   "cell_type": "code",
   "execution_count": 48,
   "id": "c78be920-2147-4c28-9d06-87a396f566fc",
   "metadata": {},
   "outputs": [
    {
     "name": "stdout",
     "output_type": "stream",
     "text": [
      "{0, 24, 7}\n"
     ]
    }
   ],
   "source": [
    "print(z_daily_pints_log-daily_pints_log)"
   ]
  },
  {
   "cell_type": "code",
   "execution_count": 49,
   "id": "fd0b1dde-b062-41da-ba30-547d85e981d9",
   "metadata": {},
   "outputs": [
    {
     "name": "stdout",
     "output_type": "stream",
     "text": [
      "{0, 4, 6, 7, 24, 31}\n"
     ]
    }
   ],
   "source": [
    "print(z_daily_pints_log^daily_pints_log)"
   ]
  },
  {
   "cell_type": "code",
   "execution_count": 50,
   "id": "0741fbd2-e60c-4ffd-ae53-4d493c20ba7a",
   "metadata": {},
   "outputs": [],
   "source": [
    "#dictionaries\n",
    "\n",
    "#key/value pair\n",
    "\n",
    "dict_cream={'name':'Alex Freberg','weekly intake':5,'favorite ice cream':['MCC','Chocolate']}"
   ]
  },
  {
   "cell_type": "code",
   "execution_count": 51,
   "id": "4ef5dddb-9896-4d7c-aefc-1ef5b3d036ea",
   "metadata": {},
   "outputs": [
    {
     "data": {
      "text/plain": [
       "dict"
      ]
     },
     "execution_count": 51,
     "metadata": {},
     "output_type": "execute_result"
    }
   ],
   "source": [
    "type(dict_cream)"
   ]
  },
  {
   "cell_type": "code",
   "execution_count": 52,
   "id": "dfd5f168-2754-408e-9915-99260f9e5f0d",
   "metadata": {},
   "outputs": [
    {
     "data": {
      "text/plain": [
       "dict_values(['Alex Freberg', 5, ['MCC', 'Chocolate']])"
      ]
     },
     "execution_count": 52,
     "metadata": {},
     "output_type": "execute_result"
    }
   ],
   "source": [
    "dict_cream.values()"
   ]
  },
  {
   "cell_type": "code",
   "execution_count": 53,
   "id": "5f215275-6472-4f71-9344-3e4ef479cbde",
   "metadata": {},
   "outputs": [
    {
     "data": {
      "text/plain": [
       "dict_keys(['name', 'weekly intake', 'favorite ice cream'])"
      ]
     },
     "execution_count": 53,
     "metadata": {},
     "output_type": "execute_result"
    }
   ],
   "source": [
    "dict_cream.keys()"
   ]
  },
  {
   "cell_type": "code",
   "execution_count": 54,
   "id": "7916eb11-f560-4bf9-b248-43855e51ac38",
   "metadata": {},
   "outputs": [
    {
     "data": {
      "text/plain": [
       "dict_items([('name', 'Alex Freberg'), ('weekly intake', 5), ('favorite ice cream', ['MCC', 'Chocolate'])])"
      ]
     },
     "execution_count": 54,
     "metadata": {},
     "output_type": "execute_result"
    }
   ],
   "source": [
    "dict_cream.items()"
   ]
  },
  {
   "cell_type": "code",
   "execution_count": 55,
   "id": "8c320ea5-a6ca-4c8a-81e3-bab8a0b5133a",
   "metadata": {},
   "outputs": [
    {
     "data": {
      "text/plain": [
       "'Alex Freberg'"
      ]
     },
     "execution_count": 55,
     "metadata": {},
     "output_type": "execute_result"
    }
   ],
   "source": [
    "dict_cream['name']"
   ]
  },
  {
   "cell_type": "code",
   "execution_count": 60,
   "id": "94e8d5c0-80fe-4a0f-998c-04736a7721d2",
   "metadata": {},
   "outputs": [
    {
     "name": "stdout",
     "output_type": "stream",
     "text": [
      "{'name': 'Chistne freberg', 'weekly intake': 10, 'favorite ice cream': ['MCC', 'Chocolate'], 'weight': 300}\n"
     ]
    }
   ],
   "source": [
    "dict_cream['name']='Chistne freberg'\n",
    "print(dict_cream)"
   ]
  },
  {
   "cell_type": "code",
   "execution_count": 62,
   "id": "d3426108-f062-4d64-a026-a88fe22be222",
   "metadata": {},
   "outputs": [
    {
     "name": "stdout",
     "output_type": "stream",
     "text": [
      "{'name': 'Christine freberg', 'weekly intake': 10, 'favorite ice cream': ['MCC', 'Chocolate'], 'weight': 300}\n"
     ]
    }
   ],
   "source": [
    "dict_cream.update({'name':'Christine freberg','weekly intake':10,'weight':300})\n",
    "print(dict_cream)"
   ]
  },
  {
   "cell_type": "code",
   "execution_count": 65,
   "id": "cd62a78c-1edd-441b-8c33-c415eeae280b",
   "metadata": {},
   "outputs": [
    {
     "ename": "KeyError",
     "evalue": "'weight'",
     "output_type": "error",
     "traceback": [
      "\u001b[1;31m---------------------------------------------------------------------------\u001b[0m",
      "\u001b[1;31mKeyError\u001b[0m                                  Traceback (most recent call last)",
      "Cell \u001b[1;32mIn[65], line 1\u001b[0m\n\u001b[1;32m----> 1\u001b[0m \u001b[38;5;28;01mdel\u001b[39;00m dict_cream[\u001b[38;5;124m'\u001b[39m\u001b[38;5;124mweight\u001b[39m\u001b[38;5;124m'\u001b[39m]\n",
      "\u001b[1;31mKeyError\u001b[0m: 'weight'"
     ]
    }
   ],
   "source": [
    "del dict_cream['weight']"
   ]
  },
  {
   "cell_type": "code",
   "execution_count": 66,
   "id": "0e86c1e0-4393-4d2b-a660-b32a2524b3f0",
   "metadata": {},
   "outputs": [
    {
     "name": "stdout",
     "output_type": "stream",
     "text": [
      "{'name': 'Christine freberg', 'weekly intake': 10, 'favorite ice cream': ['MCC', 'Chocolate']}\n"
     ]
    }
   ],
   "source": [
    "print(dict_cream)"
   ]
  },
  {
   "cell_type": "code",
   "execution_count": null,
   "id": "3e3c2168-89e0-47b7-bad1-758f55e1f049",
   "metadata": {},
   "outputs": [],
   "source": []
  },
  {
   "cell_type": "code",
   "execution_count": null,
   "id": "f7a7ea30-1bd7-4905-845f-3975db69741b",
   "metadata": {},
   "outputs": [],
   "source": []
  },
  {
   "cell_type": "code",
   "execution_count": null,
   "id": "365632b6-ee23-48fb-bc6f-fa0ca71cd2f5",
   "metadata": {},
   "outputs": [],
   "source": []
  }
 ],
 "metadata": {
  "kernelspec": {
   "display_name": "Python 3 (ipykernel)",
   "language": "python",
   "name": "python3"
  },
  "language_info": {
   "codemirror_mode": {
    "name": "ipython",
    "version": 3
   },
   "file_extension": ".py",
   "mimetype": "text/x-python",
   "name": "python",
   "nbconvert_exporter": "python",
   "pygments_lexer": "ipython3",
   "version": "3.9.5"
  }
 },
 "nbformat": 4,
 "nbformat_minor": 5
}
