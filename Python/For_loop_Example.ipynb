{
 "cells": [
  {
   "cell_type": "markdown",
   "id": "e0fb80e5-db57-4954-94cd-eef3de0a5eb4",
   "metadata": {},
   "source": [
    "# For Loop\n"
   ]
  },
  {
   "cell_type": "code",
   "execution_count": 1,
   "id": "84f5689d-57ce-4a1b-8a60-4bb03c60dc28",
   "metadata": {},
   "outputs": [],
   "source": [
    "integers=[1,2,3,4,5]"
   ]
  },
  {
   "cell_type": "code",
   "execution_count": 2,
   "id": "0b03db5a-95ff-4001-b34a-7c160f9681ba",
   "metadata": {},
   "outputs": [
    {
     "name": "stdout",
     "output_type": "stream",
     "text": [
      "1\n",
      "2\n",
      "3\n",
      "4\n",
      "5\n"
     ]
    }
   ],
   "source": [
    "for number in integers:\n",
    "    print(number)"
   ]
  },
  {
   "cell_type": "code",
   "execution_count": 3,
   "id": "486389f9-dbff-426a-98bf-ea401f053978",
   "metadata": {},
   "outputs": [
    {
     "name": "stdout",
     "output_type": "stream",
     "text": [
      "yep!\n",
      "yep!\n",
      "yep!\n",
      "yep!\n",
      "yep!\n"
     ]
    }
   ],
   "source": [
    "for number in integers:\n",
    "    print('yep!')"
   ]
  },
  {
   "cell_type": "code",
   "execution_count": 4,
   "id": "2cae6867-7036-43b2-af67-206ead49e0cc",
   "metadata": {},
   "outputs": [
    {
     "name": "stdout",
     "output_type": "stream",
     "text": [
      "2\n",
      "4\n",
      "6\n",
      "8\n",
      "10\n"
     ]
    }
   ],
   "source": [
    "for jelly in integers:\n",
    "    print(jelly+jelly)"
   ]
  },
  {
   "cell_type": "code",
   "execution_count": 5,
   "id": "ae465fe4-07b2-4fc5-a89b-9ff034e9e040",
   "metadata": {},
   "outputs": [],
   "source": [
    "ice_cream_dict={'name':'Alex Freberg','Weekly intake':5,'Favorite ice creams':['MCC','Chocolate']}"
   ]
  },
  {
   "cell_type": "code",
   "execution_count": 7,
   "id": "6e58a57d-b19b-4dae-9591-1725d349a463",
   "metadata": {},
   "outputs": [
    {
     "name": "stdout",
     "output_type": "stream",
     "text": [
      "Alex Freberg\n",
      "5\n",
      "['MCC', 'Chocolate']\n"
     ]
    }
   ],
   "source": [
    "for cream in ice_cream_dict.values():\n",
    "    print(cream)"
   ]
  },
  {
   "cell_type": "code",
   "execution_count": 8,
   "id": "53887b27-cc11-473a-9b6e-c00df13de848",
   "metadata": {},
   "outputs": [
    {
     "name": "stdout",
     "output_type": "stream",
     "text": [
      "name -> Alex Freberg\n",
      "Weekly intake -> 5\n",
      "Favorite ice creams -> ['MCC', 'Chocolate']\n"
     ]
    }
   ],
   "source": [
    "for key,value in ice_cream_dict.items():\n",
    "    print(key,'->',value)"
   ]
  },
  {
   "cell_type": "markdown",
   "id": "0231637f-b205-4c9c-aaa6-405db8440742",
   "metadata": {},
   "source": []
  },
  {
   "cell_type": "markdown",
   "id": "a20d0ffe-5589-4781-8162-0429e215933b",
   "metadata": {},
   "source": [
    "# Nested For loops"
   ]
  },
  {
   "cell_type": "code",
   "execution_count": 10,
   "id": "98c369e3-c51b-4e95-9769-ca9e5717ce5f",
   "metadata": {},
   "outputs": [],
   "source": [
    "flavors=['Vanilla','Chocolate','Cookie Dough']\n",
    "toppings=['Hot fudge','Oreos','Marshmallows']"
   ]
  },
  {
   "cell_type": "code",
   "execution_count": 11,
   "id": "9da41298-10d3-4181-b3b8-eed81e4edf97",
   "metadata": {},
   "outputs": [
    {
     "name": "stdout",
     "output_type": "stream",
     "text": [
      "Vanilla topped with Hot fudge\n",
      "Vanilla topped with Oreos\n",
      "Vanilla topped with Marshmallows\n",
      "Chocolate topped with Hot fudge\n",
      "Chocolate topped with Oreos\n",
      "Chocolate topped with Marshmallows\n",
      "Cookie Dough topped with Hot fudge\n",
      "Cookie Dough topped with Oreos\n",
      "Cookie Dough topped with Marshmallows\n"
     ]
    }
   ],
   "source": [
    "for one in flavors:\n",
    "    for two in toppings:\n",
    "        print(one,'topped with',two)"
   ]
  },
  {
   "cell_type": "code",
   "execution_count": null,
   "id": "b7ce8d79-4807-435a-b756-9cc8f51ca243",
   "metadata": {},
   "outputs": [],
   "source": []
  }
 ],
 "metadata": {
  "kernelspec": {
   "display_name": "Python 3 (ipykernel)",
   "language": "python",
   "name": "python3"
  },
  "language_info": {
   "codemirror_mode": {
    "name": "ipython",
    "version": 3
   },
   "file_extension": ".py",
   "mimetype": "text/x-python",
   "name": "python",
   "nbconvert_exporter": "python",
   "pygments_lexer": "ipython3",
   "version": "3.9.5"
  }
 },
 "nbformat": 4,
 "nbformat_minor": 5
}
