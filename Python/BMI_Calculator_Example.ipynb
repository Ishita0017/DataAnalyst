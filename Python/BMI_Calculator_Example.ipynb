{
 "cells": [
  {
   "cell_type": "markdown",
   "id": "ea1c457d-a5ef-4d0f-9c82-4bc9bedc04e4",
   "metadata": {},
   "source": [
    "# BMI Calculator"
   ]
  },
  {
   "cell_type": "code",
   "execution_count": null,
   "id": "1339155e-602a-4d67-9fbf-5925226ef7da",
   "metadata": {},
   "outputs": [],
   "source": [
    "#BMI = (weight in pounds x 703)/(Height in inches x height in inches)\n",
    "\n",
    "https://mercer-health.com/services/weight-management-center/bmi-calculator#:~:text=Body%20Mass%20Index%2C%20or%20BMI,inches%20x%20height%20in%20inches"
   ]
  },
  {
   "cell_type": "code",
   "execution_count": 16,
   "id": "cd404dbd-5867-4d37-bd1b-43f590dc222d",
   "metadata": {},
   "outputs": [
    {
     "name": "stdin",
     "output_type": "stream",
     "text": [
      "Enter your name:  ishita\n",
      "Enter your weight in pounds: 170\n",
      "Enter your height in inches: 69\n"
     ]
    },
    {
     "name": "stdout",
     "output_type": "stream",
     "text": [
      "25.101869355177485\n",
      "ishita you are overweight\n"
     ]
    }
   ],
   "source": [
    "name= input(\"Enter your name: \")\n",
    "weight=int(input(\"Enter your weight in pounds:\"))\n",
    "height = int(input(\"Enter your height in inches:\"))\n",
    "\n",
    "BMI = (weight * 703)/(height * height)\n",
    "print(BMI)\n",
    "if BMI>0:\n",
    "    if(BMI<18.5):\n",
    "        print(name+ \" you are under weight\")\n",
    "    elif(BMI<24.9):\n",
    "        print(name+\" you are weight is normal\")\n",
    "    elif(BMI<29.9):\n",
    "        print(name+\" you are overweight\")\n",
    "    elif(BMI<34.9):\n",
    "        print(name+\" you are obese\")\n",
    "    elif(BMI<39.9):\n",
    "        print(name+\" you are Severely obese\")\n",
    "    else:\n",
    "        print(name+\" you are morbidly obeses\")\n",
    "else:\n",
    "    print(\"enter valid input\")"
   ]
  },
  {
   "cell_type": "code",
   "execution_count": 4,
   "id": "40de2087-4a15-4014-a794-e0bd4a8e363b",
   "metadata": {},
   "outputs": [
    {
     "name": "stdout",
     "output_type": "stream",
     "text": [
      "170\n"
     ]
    }
   ],
   "source": [
    "print(weight)"
   ]
  },
  {
   "cell_type": "code",
   "execution_count": null,
   "id": "84a5273d-2639-4102-83f8-33c1d7eb4e87",
   "metadata": {},
   "outputs": [],
   "source": [
    "Under 18.5\tUnderweight\tMinimal\n",
    "18.5 - 24.9\tNormal Weight\tMinimal\n",
    "25 - 29.9\tOverweight\tIncreased\n",
    "30 - 34.9\tObese\tHigh\n",
    "35 - 39.9\tSeverely Obese\tVery High\n",
    "40 and over\tMorbidly Obese\tExtremely High"
   ]
  },
  {
   "cell_type": "code",
   "execution_count": 15,
   "id": "a4d187ad-fef6-406a-b8c1-69ae565ac309",
   "metadata": {},
   "outputs": [
    {
     "name": "stdout",
     "output_type": "stream",
     "text": [
      "Ishita you are overweight\n"
     ]
    }
   ],
   "source": [
    "if BMI>0:\n",
    "    if(BMI<18.5):\n",
    "        print(name+ \" you are under weight\")\n",
    "    elif(BMI<24.9):\n",
    "        print(name+\" you are weight is normal\")\n",
    "    elif(BMI<29.9):\n",
    "        print(name+\" you are overweight\")\n",
    "    elif(BMI<34.9):\n",
    "        print(name+\" you are obese\")\n",
    "    elif(BMI<39.9):\n",
    "        print(name+\" you are Severely obese\")\n",
    "    else:\n",
    "        print(name+\" you are morbidly obeses\")\n",
    "else:\n",
    "    print(\"enter valid input\")"
   ]
  },
  {
   "cell_type": "code",
   "execution_count": null,
   "id": "c5c8f368-b270-4a66-9818-ab44a6fa2981",
   "metadata": {},
   "outputs": [],
   "source": []
  },
  {
   "cell_type": "code",
   "execution_count": null,
   "id": "6029e39e-6c29-409c-9911-77bebd283b55",
   "metadata": {},
   "outputs": [],
   "source": [
    "print(weight)"
   ]
  }
 ],
 "metadata": {
  "kernelspec": {
   "display_name": "Python 3 (ipykernel)",
   "language": "python",
   "name": "python3"
  },
  "language_info": {
   "codemirror_mode": {
    "name": "ipython",
    "version": 3
   },
   "file_extension": ".py",
   "mimetype": "text/x-python",
   "name": "python",
   "nbconvert_exporter": "python",
   "pygments_lexer": "ipython3",
   "version": "3.9.5"
  }
 },
 "nbformat": 4,
 "nbformat_minor": 5
}
