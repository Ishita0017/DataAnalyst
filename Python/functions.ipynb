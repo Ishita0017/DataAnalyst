{
 "cells": [
  {
   "cell_type": "markdown",
   "id": "23b142d6-f02d-4b3d-b188-d88e698e582f",
   "metadata": {},
   "source": [
    "# Functions"
   ]
  },
  {
   "cell_type": "code",
   "execution_count": 2,
   "id": "b8e6b3e7-b245-487a-bc45-dc7dea4d941f",
   "metadata": {},
   "outputs": [],
   "source": [
    "def first_function():\n",
    "    print('We did it!') "
   ]
  },
  {
   "cell_type": "code",
   "execution_count": 3,
   "id": "eba4e123-99e7-4672-9c14-fccdc6ea5e80",
   "metadata": {},
   "outputs": [
    {
     "name": "stdout",
     "output_type": "stream",
     "text": [
      "We did it!\n"
     ]
    }
   ],
   "source": [
    "first_function()"
   ]
  },
  {
   "cell_type": "code",
   "execution_count": 5,
   "id": "01c3fef7-6281-4dc3-9130-0b9679617aaa",
   "metadata": {},
   "outputs": [],
   "source": [
    "def number_squared(number):\n",
    "    print(number**2)\n",
    "    "
   ]
  },
  {
   "cell_type": "code",
   "execution_count": 6,
   "id": "f09375bb-5c71-466a-92bf-ae08dbca7cf3",
   "metadata": {},
   "outputs": [
    {
     "name": "stdout",
     "output_type": "stream",
     "text": [
      "25\n"
     ]
    }
   ],
   "source": [
    "number_squared(5)"
   ]
  },
  {
   "cell_type": "code",
   "execution_count": 7,
   "id": "bac47521-63d0-408e-8480-957427b870d2",
   "metadata": {},
   "outputs": [],
   "source": [
    "def number_squared_cust(number,power):\n",
    "    print(number**power)\n",
    "    "
   ]
  },
  {
   "cell_type": "code",
   "execution_count": 8,
   "id": "9513e1c4-9ea4-4bc2-8653-468fd21ad8a5",
   "metadata": {},
   "outputs": [
    {
     "name": "stdout",
     "output_type": "stream",
     "text": [
      "125\n"
     ]
    }
   ],
   "source": [
    "number_squared_cust(5,3)"
   ]
  },
  {
   "cell_type": "code",
   "execution_count": 3,
   "id": "efbd0db9-3fe1-4cfe-9340-999a30e1aaf4",
   "metadata": {},
   "outputs": [],
   "source": [
    "args_tuple=(5,6,1,2,8)\n",
    "\n",
    "\n",
    "def number_args(*number):\n",
    "    print(number[0]*number[1])"
   ]
  },
  {
   "cell_type": "code",
   "execution_count": 5,
   "id": "afbe3024-7529-4601-a686-cfa70b2b0340",
   "metadata": {},
   "outputs": [
    {
     "name": "stdout",
     "output_type": "stream",
     "text": [
      "30\n"
     ]
    }
   ],
   "source": [
    "number_args(*args_tuple)"
   ]
  },
  {
   "cell_type": "code",
   "execution_count": null,
   "id": "7baa3216-2cca-4672-9ecc-fb154cf8eded",
   "metadata": {},
   "outputs": [],
   "source": []
  },
  {
   "cell_type": "code",
   "execution_count": 6,
   "id": "4aa21fff-873c-44ee-b1c4-69bf8aceb1b9",
   "metadata": {},
   "outputs": [],
   "source": [
    "def number_squared_cust(number,power):\n",
    "    print(number**power)\n",
    "    "
   ]
  },
  {
   "cell_type": "code",
   "execution_count": 7,
   "id": "a1abe479-f895-4e1a-9b66-abe410a31894",
   "metadata": {},
   "outputs": [
    {
     "name": "stdout",
     "output_type": "stream",
     "text": [
      "243\n"
     ]
    }
   ],
   "source": [
    "number_squared_cust(power=5,number=3)"
   ]
  },
  {
   "cell_type": "code",
   "execution_count": 14,
   "id": "3a0470f9-0fcf-466f-91e6-540a23dbb95a",
   "metadata": {},
   "outputs": [],
   "source": [
    "def number_kwarg(**number):\n",
    "    print('My number is:'+ number['integer']+' my other number:' +number['integer2'])"
   ]
  },
  {
   "cell_type": "code",
   "execution_count": 15,
   "id": "b76665a2-ff47-4214-a8d9-3c7c676ba3ee",
   "metadata": {},
   "outputs": [
    {
     "name": "stdout",
     "output_type": "stream",
     "text": [
      "My number is:2309 my other number:349\n"
     ]
    }
   ],
   "source": [
    "number_kwarg(integer='2309',integer2='349')"
   ]
  },
  {
   "cell_type": "code",
   "execution_count": null,
   "id": "72037374-04af-413d-8d7e-df02e6faa56e",
   "metadata": {},
   "outputs": [],
   "source": []
  },
  {
   "cell_type": "code",
   "execution_count": null,
   "id": "42228383-04e9-458f-a836-4a1a32625185",
   "metadata": {},
   "outputs": [],
   "source": []
  },
  {
   "cell_type": "code",
   "execution_count": null,
   "id": "c668426b-af02-41c7-8311-8b74c0e3eb06",
   "metadata": {},
   "outputs": [],
   "source": []
  },
  {
   "cell_type": "code",
   "execution_count": null,
   "id": "2533d84f-0384-4c71-9a47-250612b66931",
   "metadata": {},
   "outputs": [],
   "source": []
  },
  {
   "cell_type": "code",
   "execution_count": null,
   "id": "9aba1967-c6a0-43ab-adc2-4f15518592f2",
   "metadata": {},
   "outputs": [],
   "source": []
  }
 ],
 "metadata": {
  "kernelspec": {
   "display_name": "Python 3 (ipykernel)",
   "language": "python",
   "name": "python3"
  },
  "language_info": {
   "codemirror_mode": {
    "name": "ipython",
    "version": 3
   },
   "file_extension": ".py",
   "mimetype": "text/x-python",
   "name": "python",
   "nbconvert_exporter": "python",
   "pygments_lexer": "ipython3",
   "version": "3.9.5"
  }
 },
 "nbformat": 4,
 "nbformat_minor": 5
}
