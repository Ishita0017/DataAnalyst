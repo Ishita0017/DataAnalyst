{
 "cells": [
  {
   "cell_type": "code",
   "execution_count": 1,
   "id": "8311315b-57ec-40e5-8b6f-d89f695a9981",
   "metadata": {},
   "outputs": [],
   "source": [
    "import os,shutil"
   ]
  },
  {
   "cell_type": "code",
   "execution_count": 8,
   "id": "8dc421cb-ea75-48f7-984f-d3b91d1745a9",
   "metadata": {},
   "outputs": [],
   "source": [
    "path= r\"C:/Data Analyst/Python/File import/\""
   ]
  },
  {
   "cell_type": "code",
   "execution_count": 15,
   "id": "fd617fba-1af9-4230-9381-257d90050626",
   "metadata": {},
   "outputs": [],
   "source": [
    "file_name=os.listdir(path)"
   ]
  },
  {
   "cell_type": "code",
   "execution_count": 18,
   "id": "4968d59b-055d-4459-8342-2c90a2499373",
   "metadata": {},
   "outputs": [],
   "source": [
    "folder_names=['Excel files','image files','text files']\n",
    "\n",
    "for loop in range(0,3):\n",
    "    if not os.path.exists(path + folder_names[loop]):\n",
    "        os.makedirs((path+folder_names[loop]))\n",
    "for file in file_name:\n",
    "    if \".xlsx\" in file and not os.path.exists(path + 'Excel files/'+file) :\n",
    "        shutil.move(path+file,path+'Excel files/')\n",
    "    elif \".txt\" in file and not os.path.exists(path + 'text files/'+file) :\n",
    "        shutil.move(path+file,path+'text files/')\n",
    "    elif \".jpg\" in file and not os.path.exists(path + 'image files/'+file) :\n",
    "        shutil.move(path+file,path+'image files/')"
   ]
  },
  {
   "cell_type": "code",
   "execution_count": null,
   "id": "41e78c47-6ca4-4669-8fcb-ad0ced3eeb38",
   "metadata": {},
   "outputs": [],
   "source": []
  },
  {
   "cell_type": "code",
   "execution_count": null,
   "id": "6f280608-2661-485a-87cb-9d7dcc488992",
   "metadata": {},
   "outputs": [],
   "source": []
  },
  {
   "cell_type": "code",
   "execution_count": null,
   "id": "b3d50851-363e-42d3-a055-c8c67f47f156",
   "metadata": {},
   "outputs": [],
   "source": []
  },
  {
   "cell_type": "code",
   "execution_count": null,
   "id": "8bc76ae4-9f0b-4d5e-8969-b9e923967361",
   "metadata": {},
   "outputs": [],
   "source": []
  },
  {
   "cell_type": "code",
   "execution_count": null,
   "id": "f5e037a8-3759-4821-9664-6f6e161205bc",
   "metadata": {},
   "outputs": [],
   "source": []
  },
  {
   "cell_type": "code",
   "execution_count": null,
   "id": "92aa7862-8229-4129-85b8-25a856b20fde",
   "metadata": {},
   "outputs": [],
   "source": []
  },
  {
   "cell_type": "code",
   "execution_count": null,
   "id": "186ea620-c5c5-4d69-b1c0-13840046a053",
   "metadata": {},
   "outputs": [],
   "source": []
  }
 ],
 "metadata": {
  "kernelspec": {
   "display_name": "Python 3 (ipykernel)",
   "language": "python",
   "name": "python3"
  },
  "language_info": {
   "codemirror_mode": {
    "name": "ipython",
    "version": 3
   },
   "file_extension": ".py",
   "mimetype": "text/x-python",
   "name": "python",
   "nbconvert_exporter": "python",
   "pygments_lexer": "ipython3",
   "version": "3.9.5"
  }
 },
 "nbformat": 4,
 "nbformat_minor": 5
}
